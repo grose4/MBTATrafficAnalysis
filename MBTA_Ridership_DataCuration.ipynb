{
 "cells": [
  {
   "cell_type": "code",
   "execution_count": 3,
   "id": "e7a886cb-7ed8-4c83-a312-e0faa4e1a837",
   "metadata": {},
   "outputs": [],
   "source": [
    "import requests\n",
    "import json\n",
    "import pandas as pd\n",
    "import calendar"
   ]
  },
  {
   "cell_type": "code",
   "execution_count": 4,
   "id": "2d66121c-8389-47bd-816d-678500993ab7",
   "metadata": {},
   "outputs": [],
   "source": [
    "def get_mbta_df(url):\n",
    "    '''\n",
    "    parameters: url (str): the url for the mbta api call\n",
    "    returns: ridership_df (dataframe): a cleaned dataframe of all the ridership data\n",
    "    does: uses the given url to get, clean, and put the mbta api data into a dataframe\n",
    "    '''\n",
    "    # MBTA Monthly Ridership\n",
    "    # Call api and create dataframe\n",
    "    ridership_response = requests.get(url).text\n",
    "    ridership_json = json.loads(ridership_response)\n",
    "    ridership_df = pd.json_normalize(ridership_json['features'])\n",
    "\n",
    "    # conver the date column from milliseconds to datetime\n",
    "    ridership_df['Date'] = pd.to_datetime(ridership_df['properties.service_date'], unit='ms')\n",
    "\n",
    "    # change the names of the columns\n",
    "    ridership_df.rename(columns={'properties.route_or_line':'Route/Line', 'properties.average_monthly_weekday_ridersh':'Avg Monthly Weekday Ridership',\n",
    "                    'properties.average_monthly_ridership':'Avg Monthly Ridership'}, inplace=True)\n",
    "\n",
    "    # clean the dataframe values\n",
    "    # convert the datetime into two columns: month and year\n",
    "    ridership_df['Year'] = pd.DatetimeIndex(ridership_df['Date']).year\n",
    "    ridership_df['month_num'] = pd.DatetimeIndex(ridership_df['Date']).month\n",
    "    ridership_df['Month'] = ridership_df['month_num'].apply(lambda x: calendar.month_name[x])\n",
    "    ridership_df.drop(columns=['Date'])\n",
    "    \n",
    "    # reorder columns\n",
    "    ridership_df = ridership_df[['Year', 'Month', 'Route/Line',\t'Avg Monthly Weekday Ridership', 'Avg Monthly Ridership', 'month_num']]\n",
    "    \n",
    "    # drop all data that is unrelated to rail ridership\n",
    "    ridership_df = ridership_df[ridership_df['Route/Line'].isin(['Green Line', 'Orange Line', 'Red Line', 'Blue Line'])]\n",
    "\n",
    "    return ridership_df"
   ]
  },
  {
   "cell_type": "code",
   "execution_count": null,
   "id": "60f1bd5b",
   "metadata": {},
   "outputs": [],
   "source": [
    "# get ridership data\n",
    "url = 'https://services1.arcgis.com/ceiitspzDAHrdGO1/arcgis/rest/services/MBTA_Monthly_Ridership_By_Mode/FeatureServer/0/query?outFields=*&where=1%3D1&f=geojson'\n",
    "ridership_df = get_mbta_df(url)"
   ]
  },
  {
   "cell_type": "code",
   "execution_count": null,
   "id": "a91907e2-1cae-438a-9a1f-62d56bed7910",
   "metadata": {},
   "outputs": [],
   "source": [
    "import matplotlib.pyplot as plt\n",
    "import numpy as np"
   ]
  },
  {
   "cell_type": "code",
   "execution_count": null,
   "id": "e363d953-d6b4-42f7-a0a4-cdca7194c776",
   "metadata": {},
   "outputs": [],
   "source": [
    "def ridership_by_year(ridership_df, year_range):\n",
    "    '''\n",
    "    parameters: \n",
    "        ridership_df (dataframe): dataframe of ridership data\n",
    "        year_range (list of integers): list of all the years we want to collect data for\n",
    "    returns:\n",
    "        ridership_years : new dataframe of the same ridership data for the specified years\n",
    "    does: returns a subset of data with only the years specified.\n",
    "    '''\n",
    "    ridership_years = pd.DataFrame(columns=['Route/Line', 'year', 'month', 'month_num', 'avg_monthly_weeday_ridership', 'avg_monthly_ridership'])\n",
    "    for year in year_range:\n",
    "        year_df = ridership_df[ridership_df['Year'] == year].sort_values(by='month_num', ascending=True)\n",
    "        year_df.rename(columns={'Route/Line' : 'Route/Line', 'Year': 'year', 'Month' : 'month', 'month_num' : 'month_num',\n",
    "                                     'Avg Monthly Weekday Ridership' : 'avg_monthly_weeday_ridership', \n",
    "                                     'Avg Monthly Ridership' : 'avg_monthly_ridership'}, inplace=True)\n",
    "        ridership_years = pd.concat([ridership_years, year_df])\n",
    "\n",
    "    return ridership_years"
   ]
  },
  {
   "cell_type": "code",
   "execution_count": 6,
   "id": "c9333bc0-7dce-49ae-84b0-998b88a3f11d",
   "metadata": {},
   "outputs": [
    {
     "name": "stderr",
     "output_type": "stream",
     "text": [
      "/tmp/ipykernel_11836/193330910.py:16: FutureWarning: The behavior of DataFrame concatenation with empty or all-NA entries is deprecated. In a future version, this will no longer exclude empty or all-NA columns when determining the result dtypes. To retain the old behavior, exclude the relevant entries before the concat operation.\n",
      "  ridership_years = pd.concat([ridership_years, year_df])\n"
     ]
    },
    {
     "data": {
      "text/html": [
       "<div>\n",
       "<style scoped>\n",
       "    .dataframe tbody tr th:only-of-type {\n",
       "        vertical-align: middle;\n",
       "    }\n",
       "\n",
       "    .dataframe tbody tr th {\n",
       "        vertical-align: top;\n",
       "    }\n",
       "\n",
       "    .dataframe thead th {\n",
       "        text-align: right;\n",
       "    }\n",
       "</style>\n",
       "<table border=\"1\" class=\"dataframe\">\n",
       "  <thead>\n",
       "    <tr style=\"text-align: right;\">\n",
       "      <th></th>\n",
       "      <th>Route/Line</th>\n",
       "      <th>year</th>\n",
       "      <th>month</th>\n",
       "      <th>month_num</th>\n",
       "      <th>avg_monthly_weeday_ridership</th>\n",
       "      <th>avg_monthly_ridership</th>\n",
       "    </tr>\n",
       "  </thead>\n",
       "  <tbody>\n",
       "    <tr>\n",
       "      <th>82</th>\n",
       "      <td>Blue Line</td>\n",
       "      <td>2017</td>\n",
       "      <td>January</td>\n",
       "      <td>1</td>\n",
       "      <td>61669.0</td>\n",
       "      <td>50078.0</td>\n",
       "    </tr>\n",
       "    <tr>\n",
       "      <th>88</th>\n",
       "      <td>Green Line</td>\n",
       "      <td>2017</td>\n",
       "      <td>January</td>\n",
       "      <td>1</td>\n",
       "      <td>176111.0</td>\n",
       "      <td>145421.0</td>\n",
       "    </tr>\n",
       "    <tr>\n",
       "      <th>89</th>\n",
       "      <td>Orange Line</td>\n",
       "      <td>2017</td>\n",
       "      <td>January</td>\n",
       "      <td>1</td>\n",
       "      <td>206018.0</td>\n",
       "      <td>159300.0</td>\n",
       "    </tr>\n",
       "    <tr>\n",
       "      <th>90</th>\n",
       "      <td>Red Line</td>\n",
       "      <td>2017</td>\n",
       "      <td>January</td>\n",
       "      <td>1</td>\n",
       "      <td>245430.0</td>\n",
       "      <td>189336.0</td>\n",
       "    </tr>\n",
       "    <tr>\n",
       "      <th>93</th>\n",
       "      <td>Blue Line</td>\n",
       "      <td>2017</td>\n",
       "      <td>February</td>\n",
       "      <td>2</td>\n",
       "      <td>61185.0</td>\n",
       "      <td>50253.0</td>\n",
       "    </tr>\n",
       "  </tbody>\n",
       "</table>\n",
       "</div>"
      ],
      "text/plain": [
       "     Route/Line  year     month month_num  avg_monthly_weeday_ridership  \\\n",
       "82    Blue Line  2017   January         1                       61669.0   \n",
       "88   Green Line  2017   January         1                      176111.0   \n",
       "89  Orange Line  2017   January         1                      206018.0   \n",
       "90     Red Line  2017   January         1                      245430.0   \n",
       "93    Blue Line  2017  February         2                       61185.0   \n",
       "\n",
       "    avg_monthly_ridership  \n",
       "82                50078.0  \n",
       "88               145421.0  \n",
       "89               159300.0  \n",
       "90               189336.0  \n",
       "93                50253.0  "
      ]
     },
     "execution_count": 6,
     "metadata": {},
     "output_type": "execute_result"
    }
   ],
   "source": [
    "ridership_years = ridership_by_year(ridership_df, [2017, 2018, 2019, 2020, 2021, 2022, 2023])\n",
    "ridership_years.head()"
   ]
  }
 ],
 "metadata": {
  "kernelspec": {
   "display_name": "Python (base)",
   "language": "python",
   "name": "base"
  },
  "language_info": {
   "codemirror_mode": {
    "name": "ipython",
    "version": 3
   },
   "file_extension": ".py",
   "mimetype": "text/x-python",
   "name": "python",
   "nbconvert_exporter": "python",
   "pygments_lexer": "ipython3",
   "version": "3.12.2"
  }
 },
 "nbformat": 4,
 "nbformat_minor": 5
}
