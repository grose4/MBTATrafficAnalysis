{
 "cells": [
  {
   "cell_type": "code",
   "execution_count": 2,
   "id": "bc07b972",
   "metadata": {},
   "outputs": [],
   "source": [
    "import requests\n",
    "import json\n",
    "import pandas as pd\n",
    "import calendar\n",
    "import numpy as np\n",
    "import io\n",
    "import tarfile\n",
    "import os\n",
    "from sklearn.model_selection import train_test_split\n",
    "from sklearn.ensemble import RandomForestRegressor\n",
    "from sklearn.metrics import mean_squared_error, r2_score\n",
    "import matplotlib.pyplot as plt\n",
    "import seaborn as sns\n",
    "from mpl_toolkits.mplot3d import Axes3D"
   ]
  },
  {
   "cell_type": "markdown",
   "id": "a88c8d3e",
   "metadata": {},
   "source": [
    "### Final Deliverables (20%)\n",
    "- Final Report + Recorded Presentation Due: December 9\n",
    "  - Includes Statement of Contributions (Each Student)\n",
    "\n",
    "The Final Group Project will be conducted in groups of two to four students and must demonstrate each group member's mastery and understanding of the course material. This understanding will be demonstrated through each phase of the project. In summary, each project group will:\n",
    "\n",
    "* collect data via an API or web scraping (Phase I)\n",
    "* develop at least two key questions of interest for which the collected data may help answer (Phase I)\n",
    "* clean and preprocess the data in preparation for addressing these questions (Phase II)\n",
    "* include at least two visualizations of the data and numerical analysis that help in either understanding or solving the questions of interest (Phase II)\n",
    "* apply two machine learning or modeling methods as a form of analysis to help in answering the questions of interest (Phase II/III)\n",
    "  * **ONE OF WHICH MUST** be coded manually (using maths/NumPy) and second which may (if you choose) use a pre-built python module like `scikit-learn`."
   ]
  },
  {
   "cell_type": "code",
   "execution_count": 3,
   "id": "a56fd716-a08f-40f4-a7fe-e95e6b5cb4a4",
   "metadata": {},
   "outputs": [
    {
     "name": "stdout",
     "output_type": "stream",
     "text": [
      "        service_date time_period      stop_id        station_name  \\\n",
      "0         2021-12-31  (00:00:00)  place-alfcl             Alewife   \n",
      "1         2021-12-31  (00:00:00)  place-chmnl         Charles/MGH   \n",
      "2         2021-12-31  (00:00:00)  place-coecl              Copley   \n",
      "3         2021-12-31  (00:00:00)  place-harsq             Harvard   \n",
      "4         2021-12-31  (00:00:00)  place-sstat       South Station   \n",
      "...              ...         ...          ...                 ...   \n",
      "4169809   2018-01-01  (23:30:00)  place-welln          Wellington   \n",
      "4169810   2018-01-01  (23:30:00)  place-wimnl         Wood Island   \n",
      "4169811   2018-01-01  (23:30:00)  place-wondl          Wonderland   \n",
      "4169812   2018-01-01  (23:30:00)  place-wtcst  World Trade Center   \n",
      "4169813   2018-01-01  (23:30:00)          NaN         Charles/MGH   \n",
      "\n",
      "        route_or_line  gated_entries  \n",
      "0            Red Line            2.0  \n",
      "1            Red Line            1.0  \n",
      "2          Green Line           12.0  \n",
      "3            Red Line            1.0  \n",
      "4            Red Line            0.7  \n",
      "...               ...            ...  \n",
      "4169809   Orange Line            6.0  \n",
      "4169810     Blue Line            5.0  \n",
      "4169811     Blue Line            9.0  \n",
      "4169812   Silver Line            4.0  \n",
      "4169813      Red Line           19.0  \n",
      "\n",
      "[4169814 rows x 6 columns]\n"
     ]
    }
   ],
   "source": [
    "owner = \"AtharvaN88\"\n",
    "repo = \"GSE-by-year\"\n",
    "api_url = f\"https://api.github.com/repos/{owner}/{repo}/contents\"\n",
    "\n",
    "response = requests.get(api_url)\n",
    "if response.status_code != 200:\n",
    "    raise Exception(f\"Failed to fetch repo contents: {response.status_code}, {response.text}\")\n",
    "\n",
    "repo_contents = response.json()\n",
    "\n",
    "tar_files = [item for item in repo_contents if item['name'].endswith('.tar.gz')]\n",
    "all_dataframes = []\n",
    "\n",
    "for tar_file in tar_files:\n",
    "    tar_url = tar_file['download_url']\n",
    "    tar_response = requests.get(tar_url)\n",
    "    \n",
    "    if tar_response.status_code != 200:\n",
    "        raise Exception(f\"Failed to download {tar_file['name']}: {tar_response.status_code}, {tar_response.text}\")\n",
    "    \n",
    "    with tarfile.open(fileobj=io.BytesIO(tar_response.content), mode=\"r:gz\") as tar:\n",
    "        for member in tar.getmembers():\n",
    "            if member.isfile() and member.name.endswith('.csv'):\n",
    "                csv_file = tar.extractfile(member)\n",
    "                if csv_file:\n",
    "                    df = pd.read_csv(csv_file)\n",
    "                    all_dataframes.append(df)\n",
    "\n",
    "main_df = pd.concat(all_dataframes, ignore_index=True)\n",
    "\n",
    "print(main_df)\n"
   ]
  },
  {
   "cell_type": "code",
   "execution_count": 4,
   "id": "96d32b87",
   "metadata": {},
   "outputs": [
    {
     "data": {
      "text/html": [
       "<div>\n",
       "<style scoped>\n",
       "    .dataframe tbody tr th:only-of-type {\n",
       "        vertical-align: middle;\n",
       "    }\n",
       "\n",
       "    .dataframe tbody tr th {\n",
       "        vertical-align: top;\n",
       "    }\n",
       "\n",
       "    .dataframe thead th {\n",
       "        text-align: right;\n",
       "    }\n",
       "</style>\n",
       "<table border=\"1\" class=\"dataframe\">\n",
       "  <thead>\n",
       "    <tr style=\"text-align: right;\">\n",
       "      <th></th>\n",
       "      <th>service_date</th>\n",
       "      <th>time_period</th>\n",
       "      <th>stop_id</th>\n",
       "      <th>station_name</th>\n",
       "      <th>route_or_line</th>\n",
       "      <th>gated_entries</th>\n",
       "    </tr>\n",
       "  </thead>\n",
       "  <tbody>\n",
       "    <tr>\n",
       "      <th>0</th>\n",
       "      <td>2021-12-31</td>\n",
       "      <td>(00:00:00)</td>\n",
       "      <td>place-alfcl</td>\n",
       "      <td>Alewife</td>\n",
       "      <td>Red Line</td>\n",
       "      <td>2.0</td>\n",
       "    </tr>\n",
       "    <tr>\n",
       "      <th>1</th>\n",
       "      <td>2021-12-31</td>\n",
       "      <td>(00:00:00)</td>\n",
       "      <td>place-chmnl</td>\n",
       "      <td>Charles/MGH</td>\n",
       "      <td>Red Line</td>\n",
       "      <td>1.0</td>\n",
       "    </tr>\n",
       "    <tr>\n",
       "      <th>2</th>\n",
       "      <td>2021-12-31</td>\n",
       "      <td>(00:00:00)</td>\n",
       "      <td>place-coecl</td>\n",
       "      <td>Copley</td>\n",
       "      <td>Green Line</td>\n",
       "      <td>12.0</td>\n",
       "    </tr>\n",
       "    <tr>\n",
       "      <th>3</th>\n",
       "      <td>2021-12-31</td>\n",
       "      <td>(00:00:00)</td>\n",
       "      <td>place-harsq</td>\n",
       "      <td>Harvard</td>\n",
       "      <td>Red Line</td>\n",
       "      <td>1.0</td>\n",
       "    </tr>\n",
       "    <tr>\n",
       "      <th>4</th>\n",
       "      <td>2021-12-31</td>\n",
       "      <td>(00:00:00)</td>\n",
       "      <td>place-sstat</td>\n",
       "      <td>South Station</td>\n",
       "      <td>Red Line</td>\n",
       "      <td>0.7</td>\n",
       "    </tr>\n",
       "  </tbody>\n",
       "</table>\n",
       "</div>"
      ],
      "text/plain": [
       "  service_date time_period      stop_id   station_name route_or_line  \\\n",
       "0   2021-12-31  (00:00:00)  place-alfcl        Alewife      Red Line   \n",
       "1   2021-12-31  (00:00:00)  place-chmnl    Charles/MGH      Red Line   \n",
       "2   2021-12-31  (00:00:00)  place-coecl         Copley    Green Line   \n",
       "3   2021-12-31  (00:00:00)  place-harsq        Harvard      Red Line   \n",
       "4   2021-12-31  (00:00:00)  place-sstat  South Station      Red Line   \n",
       "\n",
       "   gated_entries  \n",
       "0            2.0  \n",
       "1            1.0  \n",
       "2           12.0  \n",
       "3            1.0  \n",
       "4            0.7  "
      ]
     },
     "execution_count": 4,
     "metadata": {},
     "output_type": "execute_result"
    }
   ],
   "source": [
    "main_df.head()"
   ]
  },
  {
   "cell_type": "code",
   "execution_count": null,
   "id": "16737020",
   "metadata": {},
   "outputs": [],
   "source": []
  },
  {
   "cell_type": "code",
   "execution_count": 5,
   "id": "8f5292df",
   "metadata": {},
   "outputs": [
    {
     "name": "stderr",
     "output_type": "stream",
     "text": [
      "/tmp/ipykernel_53623/365688126.py:1: UserWarning: Could not infer format, so each element will be parsed individually, falling back to `dateutil`. To ensure parsing is consistent and as-expected, please specify a format.\n",
      "  main_df['time_period_numeric'] = pd.to_datetime(main_df['time_period'], errors='coerce').dt.hour\n"
     ]
    },
    {
     "data": {
      "image/png": "[encoded data removed]",
      "text/plain": [
       "<Figure size 1200x600 with 2 Axes>"
      ]
     },
     "metadata": {},
     "output_type": "display_data"
    },
    {
     "name": "stdout",
     "output_type": "stream",
     "text": [
      "Mean Squared Error: 22856.83\n",
      "R² Score: 0.02\n"
     ]
    }
   ],
   "source": [
    "main_df['time_period_numeric'] = pd.to_datetime(main_df['time_period'], errors='coerce').dt.hour\n",
    "main_df = main_df.dropna(subset=['route_or_line', 'gated_entries'])\n",
    "main_df['route_or_line_encoded'] = main_df['route_or_line'].astype('category').cat.codes \n",
    "\n",
    "X = main_df[['time_period_numeric', 'route_or_line_encoded']]\n",
    "y = main_df['gated_entries']\n",
    "\n",
    "X_train, X_test, y_train, y_test = train_test_split(X, y, test_size=0.2, random_state=42)\n",
    "rf_model = RandomForestRegressor(random_state=42)\n",
    "rf_model.fit(X_train, y_train)\n",
    "\n",
    "y_pred = rf_model.predict(X_test)\n",
    "\n",
    "mse = mean_squared_error(y_test, y_pred)\n",
    "r2 = r2_score(y_test, y_pred)\n",
    "\n",
    "residuals = y_test - y_pred\n",
    "\n",
    "plt.figure(figsize=(12, 6))\n",
    "\n",
    "plt.subplot(1, 2, 1)\n",
    "sns.histplot(residuals, kde=True, bins=30, color='blue')\n",
    "plt.title('Residual Distribution')\n",
    "plt.xlabel('Residual')\n",
    "plt.ylabel('Frequency')\n",
    "\n",
    "plt.subplot(1, 2, 2)\n",
    "feature_importances = rf_model.feature_importances_\n",
    "sns.barplot(x=feature_importances, y=X.columns)\n",
    "plt.title('Feature Importances')\n",
    "plt.xlabel('Importance')\n",
    "plt.ylabel('Feature')\n",
    "\n",
    "plt.tight_layout()\n",
    "plt.show()\n",
    "\n",
    "print(f\"Mean Squared Error: {mse:.2f}\")\n",
    "print(f\"R² Score: {r2:.2f}\")\n"
   ]
  },
  {
   "cell_type": "code",
   "execution_count": null,
   "id": "992c4d85-130a-4938-859c-32292121dd90",
   "metadata": {},
   "outputs": [],
   "source": []
  },
  {
   "cell_type": "code",
   "execution_count": null,
   "id": "a93edcf9",
   "metadata": {},
   "outputs": [],
   "source": []
  }
 ],
 "metadata": {
  "kernelspec": {
   "display_name": "Python 3 (ipykernel)",
   "language": "python",
   "name": "python3"
  },
  "language_info": {
   "codemirror_mode": {
    "name": "ipython",
    "version": 3
   },
   "file_extension": ".py",
   "mimetype": "text/x-python",
   "name": "python",
   "nbconvert_exporter": "python",
   "pygments_lexer": "ipython3",
   "version": "3.11.7"
  }
 },
 "nbformat": 4,
 "nbformat_minor": 5
}
